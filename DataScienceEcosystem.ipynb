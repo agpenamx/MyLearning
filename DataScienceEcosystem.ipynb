{
 "cells": [
  {
   "cell_type": "markdown",
   "metadata": {},
   "source": [
    "<center>\n",
    "    <img src=\"https://cf-courses-data.s3.us.cloud-object-storage.appdomain.cloud/IBMDeveloperSkillsNetwork-DS0105EN-SkillsNetwork/labs/Module2/images/SN_web_lightmode.png\" width=\"300\" alt=\"cognitiveclass.ai logo\">\n",
    "</center>\n"
   ]
  },
  {
   "cell_type": "markdown",
   "metadata": {
    "tags": []
   },
   "source": [
    "#### Add your code below following the instructions given in the course\n"
   ]
  },
  {
   "cell_type": "markdown",
   "metadata": {},
   "source": [
    "# Data Science Tools and Ecosystem"
   ]
  },
  {
   "cell_type": "markdown",
   "metadata": {},
   "source": [
    "In this notebook, Data Science Tools and Ecosystem are summarized. "
   ]
  },
  {
   "cell_type": "markdown",
   "metadata": {},
   "source": [
    "#### Some of the key takeaways from the course \n",
    "**Objectives:**\n",
    "\n",
    "- You will become familiar with the Data Scientist’s tool kit which includes: Libraries & Packages, Data Sets, Machine Learning Models, Kernels, as well as the various Open source, commercial, Big Data and Cloud-based tools. \n",
    "\n",
    "- Work with Jupyter Notebooks, JupyterLab, RStudio IDE, Git, GitHub, and Watson Studio. You will understand what each tool is used for, what programming languages they can execute, their features and limitations.  \n",
    "\n",
    "- This course gives plenty of hands-on experience in order to develop skills for working with these Data Science Tools. With the tools hosted in the cloud on Skills Network Labs, you will be able to test each tool and follow instructions to run simple code in Python, R, or Scala.  "
   ]
  },
  {
   "cell_type": "markdown",
   "metadata": {},
   "source": [
    "#### Some of the popular languages that Data Scientists use are:\n",
    "\n",
    "**1. Python:** Python is the most widely used language in data science due to its simplicity, versatility, and the vast array of libraries like Pandas, NumPy, Scikit-learn, TensorFlow, and PyTorch.\n",
    "\n",
    "**2. R:** R is highly popular in academia and among statisticians for data analysis and visualization, thanks to packages like ggplot2, dplyr, and caret.\n",
    "\n",
    "**3. SQL:** SQL (Structured Query Language) is essential for querying and managing data stored in relational databases, making it a critical tool for data scientists.\n",
    "\n",
    "**4. Java:** Java is used in big data frameworks like Hadoop and Spark. It’s favored for its performance and scalability in large-scale data processing.\n",
    "\n",
    "**5. Julia:** Julia is gaining popularity in data science for its high performance in numerical and scientific computing, with easy-to-write syntax like Python.\n",
    "\n",
    "**6. Scala:** Scala is often used in conjunction with Apache Spark for big data processing, offering both object-oriented and functional programming features.\n",
    "\n",
    "**7. SAS:** SAS (Statistical Analysis System) is widely used in industries like banking and pharmaceuticals for advanced analytics, though it’s less common in open-source communities.\n",
    "\n",
    "**8. MATLAB:** MATLAB is popular in academia and engineering fields for numerical computing, especially for tasks like signal processing and image analysis.\n",
    "\n",
    "**9. C++:** C++ is used for performance-critical applications in data science, such as implementing algorithms that require optimization and speed.\n",
    "\n",
    "**10. JavaScript:** JavaScript is used primarily for data visualization in web development, with libraries like D3.js and Chart.js, making it increasingly relevant for data scientists working with front-end web applications."
   ]
  },
  {
   "cell_type": "markdown",
   "metadata": {
    "tags": []
   },
   "source": [
    "#### Some of the commonly used libraries that Data Scientists use are:\n",
    "#This will show a table with the requirements of the course but using pandas and dictionaries for proper formatitng "
   ]
  },
  {
   "cell_type": "code",
   "execution_count": 2,
   "metadata": {
    "jupyter": {
     "source_hidden": true
    },
    "tags": []
   },
   "outputs": [
    {
     "data": {
      "text/html": [
       "<style type=\"text/css\">\n",
       "#T_e2b84_ th {\n",
       "  border: 1px solid black;\n",
       "}\n",
       "#T_e2b84_row0_col0, #T_e2b84_row0_col1, #T_e2b84_row0_col2, #T_e2b84_row1_col0, #T_e2b84_row1_col1, #T_e2b84_row1_col2, #T_e2b84_row2_col0, #T_e2b84_row2_col1, #T_e2b84_row2_col2, #T_e2b84_row3_col0, #T_e2b84_row3_col1, #T_e2b84_row3_col2, #T_e2b84_row4_col0, #T_e2b84_row4_col1, #T_e2b84_row4_col2, #T_e2b84_row5_col0, #T_e2b84_row5_col1, #T_e2b84_row5_col2, #T_e2b84_row6_col0, #T_e2b84_row6_col1, #T_e2b84_row6_col2, #T_e2b84_row7_col0, #T_e2b84_row7_col1, #T_e2b84_row7_col2, #T_e2b84_row8_col0, #T_e2b84_row8_col1, #T_e2b84_row8_col2 {\n",
       "  white-space: pre-wrap;\n",
       "  border: 1px solid black;\n",
       "  padding: 5px;\n",
       "  text-align: left;\n",
       "}\n",
       "</style>\n",
       "<table id=\"T_e2b84_\">\n",
       "  <thead>\n",
       "    <tr>\n",
       "      <th class=\"col_heading level0 col0\" >Library</th>\n",
       "      <th class=\"col_heading level0 col1\" >Purpose</th>\n",
       "      <th class=\"col_heading level0 col2\" >Key Features</th>\n",
       "    </tr>\n",
       "  </thead>\n",
       "  <tbody>\n",
       "    <tr>\n",
       "      <td id=\"T_e2b84_row0_col0\" class=\"data row0 col0\" >Pandas</td>\n",
       "      <td id=\"T_e2b84_row0_col1\" class=\"data row0 col1\" >Data manipulation and analysis in Python, providing structures like DataFrames.</td>\n",
       "      <td id=\"T_e2b84_row0_col2\" class=\"data row0 col2\" >Data cleaning, transformation, aggregation, time-series analysis.</td>\n",
       "    </tr>\n",
       "    <tr>\n",
       "      <td id=\"T_e2b84_row1_col0\" class=\"data row1 col0\" >NumPy</td>\n",
       "      <td id=\"T_e2b84_row1_col1\" class=\"data row1 col1\" >Numerical computing with support for large multi-dimensional arrays and matrices.</td>\n",
       "      <td id=\"T_e2b84_row1_col2\" class=\"data row1 col2\" >Array operations, linear algebra, random number generation, and more.</td>\n",
       "    </tr>\n",
       "    <tr>\n",
       "      <td id=\"T_e2b84_row2_col0\" class=\"data row2 col0\" >Matplotlib</td>\n",
       "      <td id=\"T_e2b84_row2_col1\" class=\"data row2 col1\" >Creating static, animated, and interactive visualizations.</td>\n",
       "      <td id=\"T_e2b84_row2_col2\" class=\"data row2 col2\" >Supports a variety of plots and charts, essential for data visualization.</td>\n",
       "    </tr>\n",
       "    <tr>\n",
       "      <td id=\"T_e2b84_row3_col0\" class=\"data row3 col0\" >Seaborn</td>\n",
       "      <td id=\"T_e2b84_row3_col1\" class=\"data row3 col1\" >Data visualization with a high-level interface for drawing statistical graphics.</td>\n",
       "      <td id=\"T_e2b84_row3_col2\" class=\"data row3 col2\" >Simplifies complex visualizations like heatmaps, integrates well with Pandas.</td>\n",
       "    </tr>\n",
       "    <tr>\n",
       "      <td id=\"T_e2b84_row4_col0\" class=\"data row4 col0\" >Scikit-learn</td>\n",
       "      <td id=\"T_e2b84_row4_col1\" class=\"data row4 col1\" >Machine learning library for data mining and analysis.</td>\n",
       "      <td id=\"T_e2b84_row4_col2\" class=\"data row4 col2\" >Implements various ML algorithms, model selection, and evaluation tools.</td>\n",
       "    </tr>\n",
       "    <tr>\n",
       "      <td id=\"T_e2b84_row5_col0\" class=\"data row5 col0\" >TensorFlow</td>\n",
       "      <td id=\"T_e2b84_row5_col1\" class=\"data row5 col1\" >Deep learning framework for numerical computation and large-scale ML tasks.</td>\n",
       "      <td id=\"T_e2b84_row5_col2\" class=\"data row5 col2\" >Supports deep neural networks, optimized for both CPUs and GPUs.</td>\n",
       "    </tr>\n",
       "    <tr>\n",
       "      <td id=\"T_e2b84_row6_col0\" class=\"data row6 col0\" >Keras</td>\n",
       "      <td id=\"T_e2b84_row6_col1\" class=\"data row6 col1\" >High-level neural networks API, runs on top of TensorFlow, simplifying deep learning model development.</td>\n",
       "      <td id=\"T_e2b84_row6_col2\" class=\"data row6 col2\" >User-friendly, modular interface for quick prototyping of deep learning models.</td>\n",
       "    </tr>\n",
       "    <tr>\n",
       "      <td id=\"T_e2b84_row7_col0\" class=\"data row7 col0\" >PyTorch</td>\n",
       "      <td id=\"T_e2b84_row7_col1\" class=\"data row7 col1\" >Deep learning framework offering dynamic computation graphs and flexibility.</td>\n",
       "      <td id=\"T_e2b84_row7_col2\" class=\"data row7 col2\" >Dynamic computation graphs, favored for research and production in DL applications.</td>\n",
       "    </tr>\n",
       "    <tr>\n",
       "      <td id=\"T_e2b84_row8_col0\" class=\"data row8 col0\" >SciPy</td>\n",
       "      <td id=\"T_e2b84_row8_col1\" class=\"data row8 col1\" >Library for scientific and technical computing, offering advanced mathematical computations.</td>\n",
       "      <td id=\"T_e2b84_row8_col2\" class=\"data row8 col2\" >Advanced functions for linear algebra, signal processing, statistics, and more.</td>\n",
       "    </tr>\n",
       "  </tbody>\n",
       "</table>\n"
      ],
      "text/plain": [
       "<pandas.io.formats.style.Styler at 0x7f5c0a7c4390>"
      ]
     },
     "execution_count": 2,
     "metadata": {},
     "output_type": "execute_result"
    }
   ],
   "source": [
    "import pandas as pd\n",
    "\n",
    "# Data for the table\n",
    "data = {\n",
    "    \"Library\": [\"Pandas\", \"NumPy\", \"Matplotlib\", \"Seaborn\", \"Scikit-learn\", \"TensorFlow\", \"Keras\", \"PyTorch\", \"SciPy\"],\n",
    "    \"Purpose\": [\n",
    "        \"Data manipulation and analysis in Python, providing structures like DataFrames.\",\n",
    "        \"Numerical computing with support for large multi-dimensional arrays and matrices.\",\n",
    "        \"Creating static, animated, and interactive visualizations.\",\n",
    "        \"Data visualization with a high-level interface for drawing statistical graphics.\",\n",
    "        \"Machine learning library for data mining and analysis.\",\n",
    "        \"Deep learning framework for numerical computation and large-scale ML tasks.\",\n",
    "        \"High-level neural networks API, runs on top of TensorFlow, simplifying deep learning model development.\",\n",
    "        \"Deep learning framework offering dynamic computation graphs and flexibility.\",\n",
    "        \"Library for scientific and technical computing, offering advanced mathematical computations.\"\n",
    "    ],\n",
    "    \"Key Features\": [\n",
    "        \"Data cleaning, transformation, aggregation, time-series analysis.\",\n",
    "        \"Array operations, linear algebra, random number generation, and more.\",\n",
    "        \"Supports a variety of plots and charts, essential for data visualization.\",\n",
    "        \"Simplifies complex visualizations like heatmaps, integrates well with Pandas.\",\n",
    "        \"Implements various ML algorithms, model selection, and evaluation tools.\",\n",
    "        \"Supports deep neural networks, optimized for both CPUs and GPUs.\",\n",
    "        \"User-friendly, modular interface for quick prototyping of deep learning models.\",\n",
    "        \"Dynamic computation graphs, favored for research and production in DL applications.\",\n",
    "        \"Advanced functions for linear algebra, signal processing, statistics, and more.\"\n",
    "    ]\n",
    "}\n",
    "\n",
    "# Create DataFrame\n",
    "df = pd.DataFrame(data)\n",
    "\n",
    "# Use Pandas Styler for better formatting\n",
    "styled_df = df.style.hide_index()\\\n",
    "                    .set_properties(**{\n",
    "                        'white-space': 'pre-wrap',\n",
    "                        'border': '1px solid black',\n",
    "                        'padding': '5px',\n",
    "                        'text-align': 'left'\n",
    "                    })\\\n",
    "                    .set_table_styles([{\n",
    "                        'selector': 'th',\n",
    "                        'props': [('border', '1px solid black')]\n",
    "                    }])\n",
    "\n",
    "# Display the styled DataFrame\n",
    "styled_df"
   ]
  },
  {
   "cell_type": "markdown",
   "metadata": {},
   "source": [
    " Excercise 6: Adding a table without pandas using the regular Jupyter Markdown method"
   ]
  },
  {
   "cell_type": "markdown",
   "metadata": {},
   "source": [
    "| Data Science Tools       |\n",
    "|--------------------------|\n",
    "| Python                   |\n",
    "| R                        |\n",
    "| SQL                      |\n",
    "| TensorFlow               |\n",
    "| Apache Spark             |\n",
    "| Scikit-learn             |\n",
    "| Keras                    |\n",
    "| Tableau                  |\n",
    "| Microsoft Excel          |"
   ]
  },
  {
   "cell_type": "markdown",
   "metadata": {
    "tags": []
   },
   "source": [
    "| Open Source Development Environments |\n",
    "|--------------------------------------|\n",
    "| Jupyter Notebook                     |\n",
    "| RStudio                              |\n",
    "| Apache Zeppelin                      |"
   ]
  },
  {
   "cell_type": "markdown",
   "metadata": {},
   "source": [
    "### Below are few examples of evaluating arithmetic expressions in Python. "
   ]
  },
  {
   "cell_type": "code",
   "execution_count": 5,
   "metadata": {
    "tags": []
   },
   "outputs": [
    {
     "data": {
      "text/plain": [
       "17"
      ]
     },
     "execution_count": 5,
     "metadata": {},
     "output_type": "execute_result"
    }
   ],
   "source": [
    "#This is a simple arithmetic expression to multiply then add integers. \n",
    "\n",
    "(3*4)+5"
   ]
  },
  {
   "cell_type": "code",
   "execution_count": 6,
   "metadata": {
    "tags": []
   },
   "outputs": [
    {
     "data": {
      "text/plain": [
       "3.3333333333333335"
      ]
     },
     "execution_count": 6,
     "metadata": {},
     "output_type": "execute_result"
    }
   ],
   "source": [
    "#This will convert 200 minutes to hours by dividing by 60\n",
    "\n",
    "def convert_to_hours(minutes):\n",
    "    return minutes/60\n",
    "\n",
    "convert_to_hours(200)"
   ]
  },
  {
   "cell_type": "markdown",
   "metadata": {},
   "source": [
    "## Author\n",
    "Alejandro González Peña"
   ]
  }
 ],
 "metadata": {
  "kernelspec": {
   "display_name": "Python",
   "language": "python",
   "name": "conda-env-python-py"
  },
  "language_info": {
   "codemirror_mode": {
    "name": "ipython",
    "version": 3
   },
   "file_extension": ".py",
   "mimetype": "text/x-python",
   "name": "python",
   "nbconvert_exporter": "python",
   "pygments_lexer": "ipython3",
   "version": "3.7.12"
  }
 },
 "nbformat": 4,
 "nbformat_minor": 4
}
